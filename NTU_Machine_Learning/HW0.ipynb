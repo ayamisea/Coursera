{
 "cells": [
  {
   "cell_type": "markdown",
   "metadata": {},
   "source": [
    "# Homework #0"
   ]
  },
  {
   "cell_type": "markdown",
   "metadata": {},
   "source": [
    "## 1. Probability and Statistic"
   ]
  },
  {
   "cell_type": "code",
   "execution_count": 20,
   "metadata": {},
   "outputs": [],
   "source": [
    "from sympy import * \n",
    "x,n,k = symbols('x n k')"
   ]
  },
  {
   "cell_type": "markdown",
   "metadata": {},
   "source": [
    "#### (2) counting "
   ]
  },
  {
   "cell_type": "code",
   "execution_count": 53,
   "metadata": {},
   "outputs": [
    {
     "data": {
      "text/plain": [
       "0.205078125000000"
      ]
     },
     "execution_count": 53,
     "metadata": {},
     "output_type": "execute_result"
    }
   ],
   "source": [
    "# a\n",
    "(1/2)**10*nC(10,4)"
   ]
  },
  {
   "cell_type": "code",
   "execution_count": 52,
   "metadata": {},
   "outputs": [
    {
     "data": {
      "text/plain": [
       "6/4165"
      ]
     },
     "execution_count": 52,
     "metadata": {},
     "output_type": "execute_result"
    }
   ],
   "source": [
    "# b\n",
    "2*nC(13,2)*nC(4,3)*nC(4,2)/nC(52,5)"
   ]
  },
  {
   "cell_type": "markdown",
   "metadata": {},
   "source": [
    "## 2. Linear Algebra"
   ]
  },
  {
   "cell_type": "code",
   "execution_count": 3,
   "metadata": {},
   "outputs": [],
   "source": [
    "import numpy as np"
   ]
  },
  {
   "cell_type": "markdown",
   "metadata": {},
   "source": [
    "#### (4) SVD\n",
    "- 參考教學 https://www.bilibili.com/video/av15971352/"
   ]
  },
  {
   "cell_type": "code",
   "execution_count": 68,
   "metadata": {},
   "outputs": [],
   "source": [
    "M = np.mat([[4,0,5],[0,0,5]])"
   ]
  },
  {
   "cell_type": "code",
   "execution_count": 69,
   "metadata": {},
   "outputs": [
    {
     "name": "stdout",
     "output_type": "stream",
     "text": [
      "[[-0.80770531 -0.58958641]\n",
      " [-0.58958641  0.80770531]] \n",
      "\n",
      " [7.69732483 2.59830531] \n",
      "\n",
      " [[-0.419733    0.         -0.90764762]\n",
      " [-0.90764762  0.          0.419733  ]\n",
      " [ 0.         -1.          0.        ]]\n"
     ]
    }
   ],
   "source": [
    "U,sigma,VT = np.linalg.svd(M)\n",
    "print(U,'\\n\\n',sigma,'\\n\\n',VT)"
   ]
  },
  {
   "cell_type": "code",
   "execution_count": 70,
   "metadata": {
    "scrolled": true
   },
   "outputs": [
    {
     "name": "stdout",
     "output_type": "stream",
     "text": [
      "[59.2488095  6.7511905] \n",
      "\n",
      " [7.69732483 2.59830531] \n",
      "\n",
      " [[ 0.80770531 -0.58958641]\n",
      " [ 0.58958641  0.80770531]]\n"
     ]
    }
   ],
   "source": [
    "B = M * M.transpose() \n",
    "np.diag(B) #將B對角化 B=SJS(-1)\n",
    "Beigvals, Beigvecs = np.linalg.eig(B)\n",
    "print(Beigvals,'\\n\\n',Beigvals**(1/2),'\\n\\n',Beigvecs)"
   ]
  },
  {
   "cell_type": "code",
   "execution_count": 71,
   "metadata": {},
   "outputs": [
    {
     "name": "stdout",
     "output_type": "stream",
     "text": [
      "[ 6.7511905 59.2488095  0.       ] \n",
      "\n",
      " [2.59830531 7.69732483 0.        ] \n",
      "\n",
      " [[-0.90764762 -0.419733    0.        ]\n",
      " [ 0.          0.          1.        ]\n",
      " [ 0.419733   -0.90764762  0.        ]]\n"
     ]
    }
   ],
   "source": [
    "C = M.transpose()*M\n",
    "np.diag(C)\n",
    "Ceigvals, Ceigvecs = np.linalg.eig(C)\n",
    "print(Ceigvals,'\\n\\n',Ceigvals**(1/2),'\\n\\n',Ceigvecs)\n",
    "# Beigvecs、Ceigvecs 都是正交矩陣(col互相垂直)"
   ]
  },
  {
   "cell_type": "code",
   "execution_count": 75,
   "metadata": {},
   "outputs": [
    {
     "name": "stdout",
     "output_type": "stream",
     "text": [
      "[[-0.80770531 -0.58958641]\n",
      " [-0.58958641  0.80770531]] \n",
      "\n",
      " [7.69732483 2.59830531] \n",
      "\n",
      " [[-0.419733    0.         -0.90764762]\n",
      " [-0.90764762  0.          0.419733  ]\n",
      " [ 0.         -1.          0.        ]]\n"
     ]
    }
   ],
   "source": [
    "U,sigma,VT = np.linalg.svd(M)\n",
    "print(U,'\\n\\n',sigma,'\\n\\n',VT)"
   ]
  },
  {
   "cell_type": "code",
   "execution_count": 82,
   "metadata": {
    "scrolled": true
   },
   "outputs": [
    {
     "name": "stdout",
     "output_type": "stream",
     "text": [
      "7.697324827289891 \n",
      "\n",
      " [[-0.80770531]\n",
      " [-0.58958641]] \n",
      "\n",
      " [[-0.419733    0.         -0.90764762]]\n",
      "2.5983053136971086 \n",
      "\n",
      " [[-0.58958641]\n",
      " [ 0.80770531]] \n",
      "\n",
      " [[-0.90764762  0.          0.419733  ]]\n"
     ]
    },
    {
     "data": {
      "text/plain": [
       "matrix([[ 4.,  0.,  5.],\n",
       "        [-0.,  0.,  5.]])"
      ]
     },
     "execution_count": 82,
     "metadata": {},
     "output_type": "execute_result"
    }
   ],
   "source": [
    "result = np.zeros((U.shape[0],VT.shape[1]))\n",
    "for i in range(0,sigma.shape[0]):\n",
    "    result = result + sigma[i] * U[:,i] * VT[i,:]\n",
    "    print(sigma[i],'\\n\\n',U[:,i],'\\n\\n',VT[i,:])\n",
    "\n",
    "np.around(result)"
   ]
  },
  {
   "cell_type": "markdown",
   "metadata": {},
   "source": [
    "#### (5) PD/PSD"
   ]
  },
  {
   "cell_type": "markdown",
   "metadata": {},
   "source": [
    "#### (6) inner product"
   ]
  },
  {
   "cell_type": "markdown",
   "metadata": {},
   "source": [
    "## 3. Calculus"
   ]
  },
  {
   "cell_type": "markdown",
   "metadata": {},
   "source": [
    "#### (2) chain rule"
   ]
  },
  {
   "cell_type": "code",
   "execution_count": null,
   "metadata": {},
   "outputs": [],
   "source": []
  }
 ],
 "metadata": {
  "kernelspec": {
   "display_name": "Python [conda env:Anaconda3]",
   "language": "python",
   "name": "conda-env-Anaconda3-py"
  },
  "language_info": {
   "codemirror_mode": {
    "name": "ipython",
    "version": 3
   },
   "file_extension": ".py",
   "mimetype": "text/x-python",
   "name": "python",
   "nbconvert_exporter": "python",
   "pygments_lexer": "ipython3",
   "version": "3.6.5"
  }
 },
 "nbformat": 4,
 "nbformat_minor": 2
}
