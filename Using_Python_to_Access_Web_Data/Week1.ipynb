{
 "cells": [
  {
   "cell_type": "markdown",
   "metadata": {},
   "source": [
    "https://www.py4e.com/materials"
   ]
  },
  {
   "cell_type": "markdown",
   "metadata": {},
   "source": [
    "## Regular Expression\n",
    "https://www.py4e.com/lectures3/Pythonlearn-11-Regex-Handout.txt"
   ]
  },
  {
   "cell_type": "code",
   "execution_count": 1,
   "metadata": {},
   "outputs": [],
   "source": [
    "import re"
   ]
  },
  {
   "cell_type": "code",
   "execution_count": 2,
   "metadata": {},
   "outputs": [
    {
     "name": "stdout",
     "output_type": "stream",
     "text": [
      "['X-Sefcel efe fef :']\n",
      "[]\n",
      "['X-sdsf-dsds:']\n"
     ]
    }
   ],
   "source": [
    "line='X-Sefcel efe fef :def e fef123'\n",
    "line_2='X-sdsf-dsds:dwd dwd dwdwd'\n",
    "x=re.findall('^X.*:',line)\n",
    "print(x)\n",
    "x=re.findall('^X-\\S+:',line)\n",
    "print(x)\n",
    "x=re.findall('^X-\\S+:',line_2)\n",
    "print(x)"
   ]
  },
  {
   "cell_type": "markdown",
   "metadata": {},
   "source": [
    "### findall"
   ]
  },
  {
   "cell_type": "code",
   "execution_count": 3,
   "metadata": {},
   "outputs": [
    {
     "name": "stdout",
     "output_type": "stream",
     "text": [
      "['2', '19', '42']\n",
      "[]\n"
     ]
    }
   ],
   "source": [
    "x = 'My 2 favorite numbers are 19 and 42.'\n",
    "y = re.findall('[0-9]+',x)\n",
    "print(y)\n",
    "y = re.findall('[AEIOU]+',x)\n",
    "print(y)"
   ]
  },
  {
   "cell_type": "markdown",
   "metadata": {},
   "source": [
    "### Greedy Matching\n",
    "repeat characters(*和+)，會朝個方向展開找尋最大可能string <br>"
   ]
  },
  {
   "cell_type": "code",
   "execution_count": 6,
   "metadata": {},
   "outputs": [
    {
     "name": "stdout",
     "output_type": "stream",
     "text": [
      "['From: Using the F:']\n"
     ]
    }
   ],
   "source": [
    "x = 'From: Using the F:  character'\n",
    "y = re.findall('^F.+:',x)\n",
    "print(y)"
   ]
  },
  {
   "cell_type": "markdown",
   "metadata": {},
   "source": [
    "### Non-Greedy Matchng\n",
    "並非所有 repeat code 都是 greedy<br>\n",
    "? → Don't be greedy!!!<br>"
   ]
  },
  {
   "cell_type": "code",
   "execution_count": 9,
   "metadata": {},
   "outputs": [
    {
     "name": "stdout",
     "output_type": "stream",
     "text": [
      "['From France:']\n"
     ]
    }
   ],
   "source": [
    "x = 'From France: Using the :character'\n",
    "y = re.findall('^F.+?:',x)\n",
    "print(y)"
   ]
  },
  {
   "cell_type": "markdown",
   "metadata": {},
   "source": [
    "### E-mail String Extrction"
   ]
  },
  {
   "cell_type": "code",
   "execution_count": 14,
   "metadata": {},
   "outputs": [
    {
     "name": "stdout",
     "output_type": "stream",
     "text": [
      "['lucy.lai.iie06g@nctu.edu.tw']\n"
     ]
    }
   ],
   "source": [
    "x = 'From lucy.lai.iie06g@nctu.edu.tw Sat Jun 5 09:01:25 2018' \n",
    "y = re.findall('\\S+@\\S+',x)\n",
    "print(y)"
   ]
  },
  {
   "cell_type": "markdown",
   "metadata": {},
   "source": [
    "### Fine-Tuning String Extraction\n",
    "擷取括號"
   ]
  },
  {
   "cell_type": "code",
   "execution_count": 21,
   "metadata": {
    "scrolled": true
   },
   "outputs": [
    {
     "name": "stdout",
     "output_type": "stream",
     "text": [
      "['lucy.lai.iie06g@nctu.edu.tw']\n"
     ]
    }
   ],
   "source": [
    "x = 'From lucy.lai.iie06g@nctu.edu.tw Sat Jun 5 09:01:25 2018 li@gmail.com' \n",
    "y = re.findall('^From (\\S+@\\S+)',x) #擷取括號部分，並且前面有 From 開頭\n",
    "print(y)"
   ]
  },
  {
   "cell_type": "code",
   "execution_count": 27,
   "metadata": {},
   "outputs": [
    {
     "name": "stdout",
     "output_type": "stream",
     "text": [
      "20\n",
      "32\n",
      "nctu.edu.tw\n"
     ]
    }
   ],
   "source": [
    "data = 'From lucy.lai.iie06g@nctu.edu.tw Sat Jun 5 09:01:25 2018'\n",
    "atpos = data.find('@') #'@'的位置\n",
    "print(atpos)\n",
    "sppos = data.find(' ',atpos) #由atpos位置開始，找' 'blank位置\n",
    "print(sppos)\n",
    "host = data[atpos+1:sppos] #指定擷取data哪個位置\n",
    "print(host)"
   ]
  },
  {
   "cell_type": "markdown",
   "metadata": {},
   "source": [
    "### The Regex Version\n",
    "正則表達式 <br>\n",
    "`[^ ]`：match非空白字符 →everything but a space ( [^] 中間有空白)<br>\n",
    "`*`：match many of them<br>\n"
   ]
  },
  {
   "cell_type": "code",
   "execution_count": 29,
   "metadata": {},
   "outputs": [
    {
     "name": "stdout",
     "output_type": "stream",
     "text": [
      "['nctu.edu.tw']\n"
     ]
    }
   ],
   "source": [
    "y = re.findall('@([^ ]*)',data)\n",
    "print(y)"
   ]
  },
  {
   "cell_type": "code",
   "execution_count": 30,
   "metadata": {},
   "outputs": [
    {
     "name": "stdout",
     "output_type": "stream",
     "text": [
      "['nctu.edu.tw']\n"
     ]
    }
   ],
   "source": [
    "y = re.findall('^From .*@([^ ]*)',data)\n",
    "print(y)"
   ]
  },
  {
   "cell_type": "code",
   "execution_count": 32,
   "metadata": {},
   "outputs": [
    {
     "name": "stdout",
     "output_type": "stream",
     "text": [
      "['$10.00']\n"
     ]
    }
   ],
   "source": [
    "line = 'We just recieved $10.00 for cookies.'\n",
    "y = re.findall('\\$[0-9.]+',line) # \\$ → real dollor sign，原本$有其他意義 \n",
    "print(y)"
   ]
  },
  {
   "cell_type": "code",
   "execution_count": 147,
   "metadata": {},
   "outputs": [
    {
     "name": "stdout",
     "output_type": "stream",
     "text": [
      "['6513', '8348', '3978']\n",
      "['5703']\n",
      "['5146', '9946', '4041']\n",
      "['3077', '4699', '2912']\n",
      "['7754', '4084']\n",
      "['7081']\n",
      "['3912']\n",
      "['2700', '9552', '6784']\n",
      "['4412']\n",
      "['4278', '7564', '658']\n",
      "['4048']\n",
      "['6724']\n",
      "['9466']\n",
      "['4786', '5690']\n",
      "['9209', '764', '2799']\n",
      "['9980']\n",
      "['5243']\n",
      "['4174', '471']\n",
      "['3417', '9894']\n",
      "['8976', '3097', '4458']\n",
      "['1707', '4583']\n",
      "['4']\n",
      "['820', '1474', '6804']\n",
      "['7980', '2286', '6207']\n",
      "['5887', '1086', '7545']\n",
      "['8668']\n",
      "['8441']\n",
      "['2221', '426']\n",
      "['5688', '1316', '8843']\n",
      "['1425']\n",
      "['5046', '451']\n",
      "['3504']\n",
      "['2771', '3508']\n",
      "['6739', '5805']\n",
      "['6601', '4072']\n",
      "['4439']\n",
      "['4', '3']\n",
      "['42']\n"
     ]
    }
   ],
   "source": [
    "import re\n",
    "from urllib.request import urlopen\n",
    "\n",
    "r = urlopen(\"http://py4e-data.dr-chuck.net/regex_sum_144964.txt\")\n",
    "\n",
    "data =  [(re.findall('[0-9]+',str(line))) for line in r ]\n",
    "for i in data:\n",
    "    if len(i)!=0:\n",
    "        print(i)"
   ]
  }
 ],
 "metadata": {
  "kernelspec": {
   "display_name": "Python [conda env:Anaconda3]",
   "language": "python",
   "name": "conda-env-Anaconda3-py"
  },
  "language_info": {
   "codemirror_mode": {
    "name": "ipython",
    "version": 3
   },
   "file_extension": ".py",
   "mimetype": "text/x-python",
   "name": "python",
   "nbconvert_exporter": "python",
   "pygments_lexer": "ipython3",
   "version": "3.6.5"
  }
 },
 "nbformat": 4,
 "nbformat_minor": 2
}
